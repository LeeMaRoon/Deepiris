{
 "cells": [
  {
   "cell_type": "code",
   "execution_count": 1,
   "metadata": {},
   "outputs": [],
   "source": [
    "from sklearn import datasets\n",
    "iris = datasets.load_iris()\n",
    "X =iris.data\n",
    "y=iris.target\n",
    "from sklearn.model_selection import train_test_split\n",
    "X_train, X_test, y_train, y_test = train_test_split(X,y,test_size=0.5)"
   ]
  },
  {
   "cell_type": "code",
   "execution_count": 2,
   "metadata": {
    "scrolled": true
   },
   "outputs": [
    {
     "name": "stderr",
     "output_type": "stream",
     "text": [
      "Using TensorFlow backend.\n",
      "C:\\Users\\lmrla\\.conda\\envs\\TF1\\lib\\site-packages\\tensorflow\\python\\framework\\dtypes.py:516: FutureWarning: Passing (type, 1) or '1type' as a synonym of type is deprecated; in a future version of numpy, it will be understood as (type, (1,)) / '(1,)type'.\n",
      "  _np_qint8 = np.dtype([(\"qint8\", np.int8, 1)])\n",
      "C:\\Users\\lmrla\\.conda\\envs\\TF1\\lib\\site-packages\\tensorflow\\python\\framework\\dtypes.py:517: FutureWarning: Passing (type, 1) or '1type' as a synonym of type is deprecated; in a future version of numpy, it will be understood as (type, (1,)) / '(1,)type'.\n",
      "  _np_quint8 = np.dtype([(\"quint8\", np.uint8, 1)])\n",
      "C:\\Users\\lmrla\\.conda\\envs\\TF1\\lib\\site-packages\\tensorflow\\python\\framework\\dtypes.py:518: FutureWarning: Passing (type, 1) or '1type' as a synonym of type is deprecated; in a future version of numpy, it will be understood as (type, (1,)) / '(1,)type'.\n",
      "  _np_qint16 = np.dtype([(\"qint16\", np.int16, 1)])\n",
      "C:\\Users\\lmrla\\.conda\\envs\\TF1\\lib\\site-packages\\tensorflow\\python\\framework\\dtypes.py:519: FutureWarning: Passing (type, 1) or '1type' as a synonym of type is deprecated; in a future version of numpy, it will be understood as (type, (1,)) / '(1,)type'.\n",
      "  _np_quint16 = np.dtype([(\"quint16\", np.uint16, 1)])\n",
      "C:\\Users\\lmrla\\.conda\\envs\\TF1\\lib\\site-packages\\tensorflow\\python\\framework\\dtypes.py:520: FutureWarning: Passing (type, 1) or '1type' as a synonym of type is deprecated; in a future version of numpy, it will be understood as (type, (1,)) / '(1,)type'.\n",
      "  _np_qint32 = np.dtype([(\"qint32\", np.int32, 1)])\n",
      "C:\\Users\\lmrla\\.conda\\envs\\TF1\\lib\\site-packages\\tensorflow\\python\\framework\\dtypes.py:525: FutureWarning: Passing (type, 1) or '1type' as a synonym of type is deprecated; in a future version of numpy, it will be understood as (type, (1,)) / '(1,)type'.\n",
      "  np_resource = np.dtype([(\"resource\", np.ubyte, 1)])\n",
      "C:\\Users\\lmrla\\.conda\\envs\\TF1\\lib\\site-packages\\tensorboard\\compat\\tensorflow_stub\\dtypes.py:541: FutureWarning: Passing (type, 1) or '1type' as a synonym of type is deprecated; in a future version of numpy, it will be understood as (type, (1,)) / '(1,)type'.\n",
      "  _np_qint8 = np.dtype([(\"qint8\", np.int8, 1)])\n",
      "C:\\Users\\lmrla\\.conda\\envs\\TF1\\lib\\site-packages\\tensorboard\\compat\\tensorflow_stub\\dtypes.py:542: FutureWarning: Passing (type, 1) or '1type' as a synonym of type is deprecated; in a future version of numpy, it will be understood as (type, (1,)) / '(1,)type'.\n",
      "  _np_quint8 = np.dtype([(\"quint8\", np.uint8, 1)])\n",
      "C:\\Users\\lmrla\\.conda\\envs\\TF1\\lib\\site-packages\\tensorboard\\compat\\tensorflow_stub\\dtypes.py:543: FutureWarning: Passing (type, 1) or '1type' as a synonym of type is deprecated; in a future version of numpy, it will be understood as (type, (1,)) / '(1,)type'.\n",
      "  _np_qint16 = np.dtype([(\"qint16\", np.int16, 1)])\n",
      "C:\\Users\\lmrla\\.conda\\envs\\TF1\\lib\\site-packages\\tensorboard\\compat\\tensorflow_stub\\dtypes.py:544: FutureWarning: Passing (type, 1) or '1type' as a synonym of type is deprecated; in a future version of numpy, it will be understood as (type, (1,)) / '(1,)type'.\n",
      "  _np_quint16 = np.dtype([(\"quint16\", np.uint16, 1)])\n",
      "C:\\Users\\lmrla\\.conda\\envs\\TF1\\lib\\site-packages\\tensorboard\\compat\\tensorflow_stub\\dtypes.py:545: FutureWarning: Passing (type, 1) or '1type' as a synonym of type is deprecated; in a future version of numpy, it will be understood as (type, (1,)) / '(1,)type'.\n",
      "  _np_qint32 = np.dtype([(\"qint32\", np.int32, 1)])\n",
      "C:\\Users\\lmrla\\.conda\\envs\\TF1\\lib\\site-packages\\tensorboard\\compat\\tensorflow_stub\\dtypes.py:550: FutureWarning: Passing (type, 1) or '1type' as a synonym of type is deprecated; in a future version of numpy, it will be understood as (type, (1,)) / '(1,)type'.\n",
      "  np_resource = np.dtype([(\"resource\", np.ubyte, 1)])\n"
     ]
    }
   ],
   "source": [
    "from keras.utils.np_utils import to_categorical\n",
    "y_train = to_categorical(y_train)\n",
    "y_test = to_categorical(y_test)"
   ]
  },
  {
   "cell_type": "code",
   "execution_count": 3,
   "metadata": {},
   "outputs": [
    {
     "name": "stdout",
     "output_type": "stream",
     "text": [
      "WARNING:tensorflow:From C:\\Users\\lmrla\\.conda\\envs\\TF1\\lib\\site-packages\\tensorflow\\python\\ops\\init_ops.py:1251: calling VarianceScaling.__init__ (from tensorflow.python.ops.init_ops) with dtype is deprecated and will be removed in a future version.\n",
      "Instructions for updating:\n",
      "Call initializer instance with the dtype argument instead of passing it to the constructor\n"
     ]
    }
   ],
   "source": [
    "from tensorflow.keras import models\n",
    "from tensorflow.keras import layers\n",
    "model= models.Sequential()\n",
    "model.add(layers.Dense(8,input_shape=(4,)))\n",
    "#model.add(layers.Dropout(0.2))\n",
    "model.add(layers.Dense(16,activation=\"relu\"))\n",
    "#model.add(layers.Dropout(0.2))\n",
    "model.add(layers.Dense(32,activation=\"relu\"))\n",
    "#model.add(layers.Dropout(0.2))\n",
    "model.add(layers.Dense(3,activation=\"softmax\"))"
   ]
  },
  {
   "cell_type": "code",
   "execution_count": 4,
   "metadata": {
    "scrolled": true
   },
   "outputs": [
    {
     "name": "stdout",
     "output_type": "stream",
     "text": [
      "Model: \"sequential\"\n",
      "_________________________________________________________________\n",
      "Layer (type)                 Output Shape              Param #   \n",
      "=================================================================\n",
      "dense (Dense)                (None, 8)                 40        \n",
      "_________________________________________________________________\n",
      "dense_1 (Dense)              (None, 16)                144       \n",
      "_________________________________________________________________\n",
      "dense_2 (Dense)              (None, 32)                544       \n",
      "_________________________________________________________________\n",
      "dense_3 (Dense)              (None, 3)                 99        \n",
      "=================================================================\n",
      "Total params: 827\n",
      "Trainable params: 827\n",
      "Non-trainable params: 0\n",
      "_________________________________________________________________\n"
     ]
    }
   ],
   "source": [
    "model.summary()"
   ]
  },
  {
   "cell_type": "code",
   "execution_count": 5,
   "metadata": {},
   "outputs": [],
   "source": [
    "model.compile(optimizer='rmsprop',loss='categorical_crossentropy',metrics=['accuracy'])"
   ]
  },
  {
   "cell_type": "code",
   "execution_count": 6,
   "metadata": {},
   "outputs": [
    {
     "name": "stdout",
     "output_type": "stream",
     "text": [
      "Train on 45 samples, validate on 30 samples\n",
      "Epoch 1/80\n",
      "45/45 [==============================] - 0s 5ms/sample - loss: 1.3103 - acc: 0.1778 - val_loss: 1.1085 - val_acc: 0.3000\n",
      "Epoch 2/80\n",
      "45/45 [==============================] - 0s 178us/sample - loss: 1.1300 - acc: 0.3111 - val_loss: 1.1260 - val_acc: 0.3000\n",
      "Epoch 3/80\n",
      "45/45 [==============================] - 0s 156us/sample - loss: 1.0549 - acc: 0.4000 - val_loss: 1.1528 - val_acc: 0.3000\n",
      "Epoch 4/80\n",
      "45/45 [==============================] - 0s 133us/sample - loss: 1.0103 - acc: 0.4000 - val_loss: 1.1070 - val_acc: 0.3000\n",
      "Epoch 5/80\n",
      "45/45 [==============================] - 0s 156us/sample - loss: 0.9792 - acc: 0.4000 - val_loss: 1.0919 - val_acc: 0.3333\n",
      "Epoch 6/80\n",
      "45/45 [==============================] - 0s 156us/sample - loss: 0.9504 - acc: 0.4222 - val_loss: 1.1019 - val_acc: 0.4667\n",
      "Epoch 7/80\n",
      "45/45 [==============================] - 0s 133us/sample - loss: 0.9231 - acc: 0.6000 - val_loss: 1.0967 - val_acc: 0.5000\n",
      "Epoch 8/80\n",
      "45/45 [==============================] - 0s 156us/sample - loss: 0.8956 - acc: 0.7333 - val_loss: 1.0875 - val_acc: 0.5333\n",
      "Epoch 9/80\n",
      "45/45 [==============================] - 0s 156us/sample - loss: 0.8676 - acc: 0.7778 - val_loss: 1.0434 - val_acc: 0.5333\n",
      "Epoch 10/80\n",
      "45/45 [==============================] - 0s 200us/sample - loss: 0.8429 - acc: 0.8000 - val_loss: 1.0397 - val_acc: 0.5333\n",
      "Epoch 11/80\n",
      "45/45 [==============================] - 0s 156us/sample - loss: 0.8226 - acc: 0.8000 - val_loss: 1.0763 - val_acc: 0.5333\n",
      "Epoch 12/80\n",
      "45/45 [==============================] - 0s 200us/sample - loss: 0.7986 - acc: 0.8000 - val_loss: 1.0651 - val_acc: 0.5333\n",
      "Epoch 13/80\n",
      "45/45 [==============================] - 0s 155us/sample - loss: 0.7785 - acc: 0.8000 - val_loss: 1.0094 - val_acc: 0.5333\n",
      "Epoch 14/80\n",
      "45/45 [==============================] - 0s 156us/sample - loss: 0.7565 - acc: 0.8000 - val_loss: 1.0143 - val_acc: 0.5333\n",
      "Epoch 15/80\n",
      "45/45 [==============================] - 0s 267us/sample - loss: 0.7357 - acc: 0.8000 - val_loss: 0.9996 - val_acc: 0.5333\n",
      "Epoch 16/80\n",
      "45/45 [==============================] - 0s 155us/sample - loss: 0.7136 - acc: 0.8000 - val_loss: 0.9998 - val_acc: 0.5333\n",
      "Epoch 17/80\n",
      "45/45 [==============================] - 0s 111us/sample - loss: 0.6929 - acc: 0.8222 - val_loss: 0.9606 - val_acc: 0.5333\n",
      "Epoch 18/80\n",
      "45/45 [==============================] - 0s 156us/sample - loss: 0.6710 - acc: 0.8222 - val_loss: 0.9183 - val_acc: 0.5333\n",
      "Epoch 19/80\n",
      "45/45 [==============================] - 0s 156us/sample - loss: 0.6502 - acc: 0.8222 - val_loss: 0.8870 - val_acc: 0.5333\n",
      "Epoch 20/80\n",
      "45/45 [==============================] - 0s 133us/sample - loss: 0.6370 - acc: 0.8222 - val_loss: 0.8484 - val_acc: 0.5333\n",
      "Epoch 21/80\n",
      "45/45 [==============================] - 0s 156us/sample - loss: 0.6141 - acc: 0.8222 - val_loss: 0.8788 - val_acc: 0.5333\n",
      "Epoch 22/80\n",
      "45/45 [==============================] - 0s 156us/sample - loss: 0.5937 - acc: 0.8222 - val_loss: 0.8829 - val_acc: 0.5333\n",
      "Epoch 23/80\n",
      "45/45 [==============================] - 0s 133us/sample - loss: 0.5769 - acc: 0.8222 - val_loss: 0.8381 - val_acc: 0.5333\n",
      "Epoch 24/80\n",
      "45/45 [==============================] - 0s 156us/sample - loss: 0.5594 - acc: 0.8222 - val_loss: 0.8364 - val_acc: 0.5333\n",
      "Epoch 25/80\n",
      "45/45 [==============================] - 0s 178us/sample - loss: 0.5429 - acc: 0.8222 - val_loss: 0.8427 - val_acc: 0.5333\n",
      "Epoch 26/80\n",
      "45/45 [==============================] - 0s 156us/sample - loss: 0.5281 - acc: 0.8222 - val_loss: 0.8386 - val_acc: 0.5333\n",
      "Epoch 27/80\n",
      "45/45 [==============================] - 0s 200us/sample - loss: 0.5147 - acc: 0.8222 - val_loss: 0.7776 - val_acc: 0.5333\n",
      "Epoch 28/80\n",
      "45/45 [==============================] - 0s 111us/sample - loss: 0.5009 - acc: 0.8222 - val_loss: 0.7832 - val_acc: 0.5333\n",
      "Epoch 29/80\n",
      "45/45 [==============================] - 0s 156us/sample - loss: 0.4866 - acc: 0.8222 - val_loss: 0.7634 - val_acc: 0.5333\n",
      "Epoch 30/80\n",
      "45/45 [==============================] - 0s 156us/sample - loss: 0.4754 - acc: 0.8222 - val_loss: 0.7988 - val_acc: 0.5333\n",
      "Epoch 31/80\n",
      "45/45 [==============================] - 0s 133us/sample - loss: 0.4635 - acc: 0.8222 - val_loss: 0.7539 - val_acc: 0.5333\n",
      "Epoch 32/80\n",
      "45/45 [==============================] - 0s 133us/sample - loss: 0.4549 - acc: 0.8222 - val_loss: 0.7074 - val_acc: 0.5333\n",
      "Epoch 33/80\n",
      "45/45 [==============================] - 0s 133us/sample - loss: 0.4448 - acc: 0.8222 - val_loss: 0.7398 - val_acc: 0.5333\n",
      "Epoch 34/80\n",
      "45/45 [==============================] - 0s 156us/sample - loss: 0.4347 - acc: 0.8222 - val_loss: 0.6983 - val_acc: 0.5333\n",
      "Epoch 35/80\n",
      "45/45 [==============================] - ETA: 0s - loss: 0.3957 - acc: 0.843 - 0s 244us/sample - loss: 0.4263 - acc: 0.8222 - val_loss: 0.6980 - val_acc: 0.5333\n",
      "Epoch 36/80\n",
      "45/45 [==============================] - 0s 200us/sample - loss: 0.4171 - acc: 0.8222 - val_loss: 0.6901 - val_acc: 0.5333\n",
      "Epoch 37/80\n",
      "45/45 [==============================] - 0s 133us/sample - loss: 0.4271 - acc: 0.8222 - val_loss: 0.7497 - val_acc: 0.5333\n",
      "Epoch 38/80\n",
      "45/45 [==============================] - 0s 156us/sample - loss: 0.4052 - acc: 0.8222 - val_loss: 0.7228 - val_acc: 0.5333\n",
      "Epoch 39/80\n",
      "45/45 [==============================] - 0s 200us/sample - loss: 0.4011 - acc: 0.8222 - val_loss: 0.6619 - val_acc: 0.5333\n",
      "Epoch 40/80\n",
      "45/45 [==============================] - 0s 178us/sample - loss: 0.3929 - acc: 0.8222 - val_loss: 0.6586 - val_acc: 0.5333\n",
      "Epoch 41/80\n",
      "45/45 [==============================] - 0s 156us/sample - loss: 0.3855 - acc: 0.8222 - val_loss: 0.6808 - val_acc: 0.5333\n",
      "Epoch 42/80\n",
      "45/45 [==============================] - 0s 133us/sample - loss: 0.3793 - acc: 0.8222 - val_loss: 0.6643 - val_acc: 0.5333\n",
      "Epoch 43/80\n",
      "45/45 [==============================] - 0s 156us/sample - loss: 0.3745 - acc: 0.8222 - val_loss: 0.6476 - val_acc: 0.5333\n",
      "Epoch 44/80\n",
      "45/45 [==============================] - 0s 111us/sample - loss: 0.3698 - acc: 0.8222 - val_loss: 0.6474 - val_acc: 0.5333\n",
      "Epoch 45/80\n",
      "45/45 [==============================] - 0s 222us/sample - loss: 0.3724 - acc: 0.8222 - val_loss: 0.6064 - val_acc: 0.5333\n",
      "Epoch 46/80\n",
      "45/45 [==============================] - 0s 178us/sample - loss: 0.3691 - acc: 0.8222 - val_loss: 0.6117 - val_acc: 0.5333\n",
      "Epoch 47/80\n",
      "45/45 [==============================] - 0s 111us/sample - loss: 0.3581 - acc: 0.8222 - val_loss: 0.6757 - val_acc: 0.5333\n",
      "Epoch 48/80\n",
      "45/45 [==============================] - 0s 155us/sample - loss: 0.3629 - acc: 0.8222 - val_loss: 0.6081 - val_acc: 0.5333\n",
      "Epoch 49/80\n",
      "45/45 [==============================] - 0s 133us/sample - loss: 0.3521 - acc: 0.8222 - val_loss: 0.5979 - val_acc: 0.5333\n",
      "Epoch 50/80\n",
      "45/45 [==============================] - 0s 133us/sample - loss: 0.3451 - acc: 0.8222 - val_loss: 0.6263 - val_acc: 0.5333\n",
      "Epoch 51/80\n",
      "45/45 [==============================] - 0s 178us/sample - loss: 0.3413 - acc: 0.8222 - val_loss: 0.6707 - val_acc: 0.5333\n",
      "Epoch 52/80\n",
      "45/45 [==============================] - 0s 133us/sample - loss: 0.3367 - acc: 0.8222 - val_loss: 0.6361 - val_acc: 0.5333\n",
      "Epoch 53/80\n",
      "45/45 [==============================] - 0s 156us/sample - loss: 0.3320 - acc: 0.8222 - val_loss: 0.5900 - val_acc: 0.5333\n",
      "Epoch 54/80\n",
      "45/45 [==============================] - 0s 133us/sample - loss: 0.3275 - acc: 0.8222 - val_loss: 0.6246 - val_acc: 0.5333\n",
      "Epoch 55/80\n",
      "45/45 [==============================] - 0s 200us/sample - loss: 0.3224 - acc: 0.8222 - val_loss: 0.6272 - val_acc: 0.5333\n",
      "Epoch 56/80\n",
      "45/45 [==============================] - 0s 133us/sample - loss: 0.3248 - acc: 0.8222 - val_loss: 0.5617 - val_acc: 0.5667\n",
      "Epoch 57/80\n",
      "45/45 [==============================] - 0s 156us/sample - loss: 0.3201 - acc: 0.8444 - val_loss: 0.5901 - val_acc: 0.5333\n",
      "Epoch 58/80\n",
      "45/45 [==============================] - 0s 156us/sample - loss: 0.3115 - acc: 0.8222 - val_loss: 0.5891 - val_acc: 0.5333\n",
      "Epoch 59/80\n",
      "45/45 [==============================] - 0s 133us/sample - loss: 0.3079 - acc: 0.8222 - val_loss: 0.6111 - val_acc: 0.5333\n",
      "Epoch 60/80\n",
      "45/45 [==============================] - 0s 178us/sample - loss: 0.3095 - acc: 0.8222 - val_loss: 0.5444 - val_acc: 0.5667\n",
      "Epoch 61/80\n"
     ]
    },
    {
     "name": "stdout",
     "output_type": "stream",
     "text": [
      "45/45 [==============================] - 0s 178us/sample - loss: 0.3125 - acc: 0.8444 - val_loss: 0.5396 - val_acc: 0.5667\n",
      "Epoch 62/80\n",
      "45/45 [==============================] - 0s 133us/sample - loss: 0.3067 - acc: 0.8667 - val_loss: 0.5368 - val_acc: 0.5667\n",
      "Epoch 63/80\n",
      "45/45 [==============================] - 0s 200us/sample - loss: 0.2984 - acc: 0.8667 - val_loss: 0.5711 - val_acc: 0.5333\n",
      "Epoch 64/80\n",
      "45/45 [==============================] - 0s 156us/sample - loss: 0.2914 - acc: 0.8444 - val_loss: 0.5708 - val_acc: 0.5333\n",
      "Epoch 65/80\n",
      "45/45 [==============================] - 0s 155us/sample - loss: 0.2880 - acc: 0.8444 - val_loss: 0.5704 - val_acc: 0.5333\n",
      "Epoch 66/80\n",
      "45/45 [==============================] - 0s 222us/sample - loss: 0.2867 - acc: 0.8222 - val_loss: 0.5156 - val_acc: 0.6667\n",
      "Epoch 67/80\n",
      "45/45 [==============================] - 0s 133us/sample - loss: 0.2862 - acc: 0.8889 - val_loss: 0.5459 - val_acc: 0.5667\n",
      "Epoch 68/80\n",
      "45/45 [==============================] - 0s 156us/sample - loss: 0.2817 - acc: 0.8444 - val_loss: 0.5055 - val_acc: 0.7000\n",
      "Epoch 69/80\n",
      "45/45 [==============================] - 0s 156us/sample - loss: 0.2790 - acc: 0.9111 - val_loss: 0.6087 - val_acc: 0.5333\n",
      "Epoch 70/80\n",
      "45/45 [==============================] - 0s 156us/sample - loss: 0.2832 - acc: 0.8222 - val_loss: 0.5899 - val_acc: 0.5333\n",
      "Epoch 71/80\n",
      "45/45 [==============================] - 0s 133us/sample - loss: 0.2717 - acc: 0.8444 - val_loss: 0.5288 - val_acc: 0.5667\n",
      "Epoch 72/80\n",
      "45/45 [==============================] - 0s 133us/sample - loss: 0.2678 - acc: 0.8667 - val_loss: 0.5037 - val_acc: 0.6667\n",
      "Epoch 73/80\n",
      "45/45 [==============================] - ETA: 0s - loss: 0.2401 - acc: 0.937 - 0s 244us/sample - loss: 0.2654 - acc: 0.8889 - val_loss: 0.5022 - val_acc: 0.6667\n",
      "Epoch 74/80\n",
      "45/45 [==============================] - 0s 178us/sample - loss: 0.2595 - acc: 0.8889 - val_loss: 0.5184 - val_acc: 0.6000\n",
      "Epoch 75/80\n",
      "45/45 [==============================] - 0s 111us/sample - loss: 0.2694 - acc: 0.8667 - val_loss: 0.4635 - val_acc: 0.9000\n",
      "Epoch 76/80\n",
      "45/45 [==============================] - 0s 178us/sample - loss: 0.2709 - acc: 0.9556 - val_loss: 0.4733 - val_acc: 0.9000\n",
      "Epoch 77/80\n",
      "45/45 [==============================] - 0s 133us/sample - loss: 0.2573 - acc: 0.9556 - val_loss: 0.5740 - val_acc: 0.5667\n",
      "Epoch 78/80\n",
      "45/45 [==============================] - 0s 156us/sample - loss: 0.2579 - acc: 0.8444 - val_loss: 0.5642 - val_acc: 0.5667\n",
      "Epoch 79/80\n",
      "45/45 [==============================] - 0s 133us/sample - loss: 0.2494 - acc: 0.8667 - val_loss: 0.5257 - val_acc: 0.5667\n",
      "Epoch 80/80\n",
      "45/45 [==============================] - 0s 156us/sample - loss: 0.2415 - acc: 0.8889 - val_loss: 0.5096 - val_acc: 0.6333\n"
     ]
    }
   ],
   "source": [
    "history = model.fit(X_train,y_train,validation_split=0.4,epochs=80)"
   ]
  },
  {
   "cell_type": "code",
   "execution_count": 7,
   "metadata": {},
   "outputs": [
    {
     "name": "stdout",
     "output_type": "stream",
     "text": [
      "75/75 [==============================] - 0s 93us/sample - loss: 0.3936 - acc: 0.7867\n"
     ]
    }
   ],
   "source": [
    "results = model.evaluate(X_test,y_test)"
   ]
  },
  {
   "cell_type": "code",
   "execution_count": 8,
   "metadata": {},
   "outputs": [
    {
     "data": {
      "image/png": "[encoded data removed]",
      "text/plain": [
       "<Figure size 432x288 with 1 Axes>"
      ]
     },
     "metadata": {
      "needs_background": "light"
     },
     "output_type": "display_data"
    }
   ],
   "source": [
    "import matplotlib.pyplot as plt\n",
    "history_dict = history.history\n",
    "loss = history_dict['loss']\n",
    "val_loss = history_dict['val_loss']\n",
    "epochs = range(1,len(loss)+1)\n",
    "plt.plot(epochs,loss,'bo',label='Training loss')\n",
    "plt.plot(epochs,val_loss,'b',label='validation loss')\n",
    "plt.title('Training and validation loss')\n",
    "plt.axis([0,100,0.0,2.0])\n",
    "plt.xlabel('epochs')\n",
    "plt.ylabel('Loss')\n",
    "plt.legend()\n",
    "plt.show()"
   ]
  },
  {
   "cell_type": "code",
   "execution_count": 9,
   "metadata": {},
   "outputs": [
    {
     "data": {
      "image/png": "[encoded data removed]",
      "text/plain": [
       "<Figure size 432x288 with 1 Axes>"
      ]
     },
     "metadata": {
      "needs_background": "light"
     },
     "output_type": "display_data"
    }
   ],
   "source": [
    "history_dict = history.history\n",
    "loss = history_dict['acc']\n",
    "val_loss = history_dict['val_acc']\n",
    "epochs = range(1,len(loss)+1)\n",
    "plt.plot(epochs,loss,'bo',label='Training acc')\n",
    "plt.plot(epochs,val_loss,'b',label='validation acc')\n",
    "plt.title('Training and validation accuracy')\n",
    "plt.axis([0,100,0.0,1.1])\n",
    "plt.xlabel('epochs')\n",
    "plt.ylabel('Loss')\n",
    "plt.legend()\n",
    "plt.show()"
   ]
  },
  {
   "cell_type": "code",
   "execution_count": null,
   "metadata": {},
   "outputs": [],
   "source": []
  }
 ],
 "metadata": {
  "kernelspec": {
   "display_name": "Python 3",
   "language": "python",
   "name": "python3"
  },
  "language_info": {
   "codemirror_mode": {
    "name": "ipython",
    "version": 3
   },
   "file_extension": ".py",
   "mimetype": "text/x-python",
   "name": "python",
   "nbconvert_exporter": "python",
   "pygments_lexer": "ipython3",
   "version": "3.7.7"
  }
 },
 "nbformat": 4,
 "nbformat_minor": 4
}
